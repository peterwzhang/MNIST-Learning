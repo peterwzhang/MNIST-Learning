{
 "metadata": {
  "language_info": {
   "codemirror_mode": {
    "name": "ipython",
    "version": 3
   },
   "file_extension": ".py",
   "mimetype": "text/x-python",
   "name": "python",
   "nbconvert_exporter": "python",
   "pygments_lexer": "ipython3",
   "version": "3.9.5"
  },
  "orig_nbformat": 4,
  "kernelspec": {
   "name": "python3",
   "display_name": "Python 3.9.5 64-bit ('venv': venv)"
  },
  "interpreter": {
   "hash": "5bce915539b077e92eb99e632937238fc60c1c8799df10f3a21192d5df5fea74"
  }
 },
 "nbformat": 4,
 "nbformat_minor": 2,
 "cells": [
  {
   "source": [
    "# General Idea of a Deep Neural Network\n",
    "![](dnn.png)"
   ],
   "cell_type": "markdown",
   "metadata": {}
  },
  {
   "source": [
    "# set up our model\n",
    "import tensorflow as tf\n",
    "\n",
    "# x_train is our training images/data\n",
    "mnist = tf.keras.datasets.mnist\n",
    "(x_train, y_train), (x_test, y_test) = mnist.load_data()\n",
    "\n",
    "# this normalizes our picture\n",
    "x_train = tf.keras.utils.normalize(x_train, axis=1)\n",
    "x_test = tf.keras.utils.normalize(x_test, axis=1)\n",
    "\n",
    "# relu (rectified linear unit) is f(x) = 0 for x < 0 and f(x) = x for x >= 0\n",
    "# softmax function transforms our vector of real values into a vector of real values that sum to 1 (so we can use them as probabilities)\n",
    "model = tf.keras.models.Sequential()\n",
    "model.add(tf.keras.layers.Flatten()) # our input layer\n",
    "model.add(tf.keras.layers.Dense(128, activation=tf.nn.relu)) # first hidden layer\n",
    "model.add(tf.keras.layers.Dense(128, activation=tf.nn.relu)) # second hidden layer\n",
    "model.add(tf.keras.layers.Dense(10, activation=tf.nn.softmax)) # output layer, 10 is how many possibilities there are (0-9 in our case)\n",
    "\n",
    "model.compile(optimizer='Adam', loss='sparse_categorical_crossentropy', metrics=['accuracy'])\n",
    "model.fit(x_train, y_train, epochs=3)"
   ],
   "cell_type": "code",
   "metadata": {},
   "execution_count": null,
   "outputs": []
  },
  {
   "cell_type": "code",
   "execution_count": null,
   "metadata": {},
   "outputs": [],
   "source": [
    "# lets see our actual loss and accuracy using our testing data\n",
    "val_loss, val_acc = model.evaluate(x_test, y_test)\n",
    "print(val_loss, val_acc)\n",
    "# expected to be slightly different from what you get from above (loss higher, accuracy lower) but you don't want it to be too close or too far"
   ]
  },
  {
   "cell_type": "code",
   "execution_count": null,
   "metadata": {},
   "outputs": [],
   "source": [
    "# show some of our training data\n",
    "import matplotlib.pyplot as plt\n",
    "plt.imshow(x_train[0], cmap=plt.cm.binary)\n",
    "plt.show()"
   ]
  },
  {
   "cell_type": "code",
   "execution_count": null,
   "metadata": {},
   "outputs": [],
   "source": [
    "# save our model as 'num_reader.model'\n",
    "model.save('num_reader.model')"
   ]
  },
  {
   "cell_type": "code",
   "execution_count": null,
   "metadata": {},
   "outputs": [],
   "source": [
    "# load our model\n",
    "new_model = tf.keras.models.load_model('num_reader.model')"
   ]
  },
  {
   "cell_type": "code",
   "execution_count": null,
   "metadata": {},
   "outputs": [],
   "source": [
    "# predict an image\n",
    "predictions = new_model.predict(x_test)"
   ]
  },
  {
   "cell_type": "code",
   "execution_count": null,
   "metadata": {},
   "outputs": [],
   "source": [
    "# these are one-hot arrays\n",
    "print(predictions)"
   ]
  },
  {
   "cell_type": "code",
   "execution_count": null,
   "metadata": {},
   "outputs": [],
   "source": [
    "# we can use numpy to get the above into something a bit more readable\n",
    "import numpy as np\n",
    "print(np.argmax(predictions[0])) # this prints the highest confidence guess"
   ]
  },
  {
   "cell_type": "code",
   "execution_count": null,
   "metadata": {},
   "outputs": [],
   "source": [
    "# lets verify that the image is 7\n",
    "plt.imshow(x_test[0], cmap=plt.cm.binary)\n",
    "plt.show()"
   ]
  },
  {
   "cell_type": "code",
   "execution_count": null,
   "metadata": {},
   "outputs": [],
   "source": [
    "# lets see some examples of numbers 0-9\n",
    "num = 0\n",
    "while num < 10:\n",
    "    for i, p in enumerate(predictions):\n",
    "        if np.argmax(p) == num:\n",
    "            plt.imshow(x_test[i], cmap=plt.cm.binary)\n",
    "            plt.show()\n",
    "            num += 1\n",
    "            break\n"
   ]
  },
  {
   "cell_type": "code",
   "execution_count": null,
   "metadata": {
    "tags": []
   },
   "outputs": [],
   "source": [
    "# now lets make some of our own pictures and see if our model can recognize them\n",
    "# when we print out our model's guess lets also print out the probabilities of each number\n",
    "# np.set_printoptions(suppress=True) # this disables scientific notation when we print out probabilities\n",
    "# some very small probabilities might not print correctly with this on\n",
    "file_names = ['four1.png', 'two1.png', 'zero1.png', 'four2.png', 'two2.png', 'zero2.png']\n",
    "for fname in file_names:\n",
    "    img = tf.keras.preprocessing.image.load_img(fname, color_mode='grayscale')\n",
    "    x = tf.keras.preprocessing.image.img_to_array(img)\n",
    "    x = np.expand_dims(x, axis=0)\n",
    "    # x = tf.image.resize(x, (28, 28), antialias=True)\n",
    "    x = tf.keras.utils.normalize(x, axis=1)\n",
    "    prediction = new_model.predict(x)\n",
    "    print(np.argmax(prediction))\n",
    "    print(prediction)"
   ]
  },
  {
   "cell_type": "code",
   "execution_count": null,
   "metadata": {},
   "outputs": [],
   "source": [
    "# now lets compare our output to our pictures above to check if its correct\n",
    "import matplotlib.image as mpimg\n",
    "\n",
    "for fname in file_names:\n",
    "    image = mpimg.imread(fname)\n",
    "    plt.imshow(image)\n",
    "    plt.show()"
   ]
  },
  {
   "source": [
    "# Concluding Information\n",
    "As you can see our number outputs match the pictures; these pictures were made in paint, however if you draw on paper and pencil and try and have the model predict each number it will likely fail.\n",
    "## some properties you need to apply (preprocess) in most cases:\n",
    "1. white numbers, black background\n",
    "2. 28x28 bounding box, but the number is normalized to fix in a 20x20 box\n",
    "3. Centered by center of mass\n",
    "\n",
    "In our case since our examples comply to #1, and somewhat comply to #2 and #3 our model can suprisingly recognize them\n",
    "however it still likely have trouble since we did not actually apply any actual preprocessing. In fact, if our images were moved more off center\n",
    "it would be very likely that the model would predict a different number."
   ],
   "cell_type": "markdown",
   "metadata": {}
  },
  {
   "cell_type": "code",
   "execution_count": null,
   "metadata": {},
   "outputs": [],
   "source": []
  }
 ]
}